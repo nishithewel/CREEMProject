{
 "cells": [
  {
   "cell_type": "code",
   "execution_count": 3,
   "metadata": {},
   "outputs": [
    {
     "name": "stdout",
     "output_type": "stream",
     "text": [
      "Collecting snscrape\n",
      "  Using cached snscrape-0.4.3.20220106-py3-none-any.whl (59 kB)\n",
      "Requirement already satisfied: requests[socks] in c:\\users\\nishi\\anaconda3\\lib\\site-packages (from snscrape) (2.26.0)\n",
      "Requirement already satisfied: beautifulsoup4 in c:\\users\\nishi\\anaconda3\\lib\\site-packages (from snscrape) (4.10.0)\n",
      "Requirement already satisfied: pytz in c:\\users\\nishi\\anaconda3\\lib\\site-packages (from snscrape) (2021.3)\n",
      "Requirement already satisfied: lxml in c:\\users\\nishi\\anaconda3\\lib\\site-packages (from snscrape) (4.6.3)\n",
      "Requirement already satisfied: filelock in c:\\users\\nishi\\anaconda3\\lib\\site-packages (from snscrape) (3.3.1)\n",
      "Requirement already satisfied: soupsieve>1.2 in c:\\users\\nishi\\anaconda3\\lib\\site-packages (from beautifulsoup4->snscrape) (2.3.1)\n",
      "Requirement already satisfied: certifi>=2017.4.17 in c:\\users\\nishi\\anaconda3\\lib\\site-packages (from requests[socks]->snscrape) (2021.10.8)\n",
      "Requirement already satisfied: idna<4,>=2.5 in c:\\users\\nishi\\anaconda3\\lib\\site-packages (from requests[socks]->snscrape) (3.2)\n",
      "Requirement already satisfied: urllib3<1.27,>=1.21.1 in c:\\users\\nishi\\anaconda3\\lib\\site-packages (from requests[socks]->snscrape) (1.26.7)\n",
      "Requirement already satisfied: charset-normalizer~=2.0.0 in c:\\users\\nishi\\anaconda3\\lib\\site-packages (from requests[socks]->snscrape) (2.0.4)\n",
      "Requirement already satisfied: PySocks!=1.5.7,>=1.5.6 in c:\\users\\nishi\\anaconda3\\lib\\site-packages (from requests[socks]->snscrape) (1.7.1)\n",
      "Installing collected packages: snscrape\n",
      "Successfully installed snscrape-0.4.3.20220106\n",
      "Note: you may need to restart the kernel to use updated packages.\n"
     ]
    }
   ],
   "source": [
    "%pip install snscrape\n"
   ]
  },
  {
   "cell_type": "code",
   "execution_count": 1,
   "metadata": {},
   "outputs": [],
   "source": [
    "import snscrape.modules.twitter as sntwitter\n",
    "import pandas as pd\n",
    "import snscrape \n",
    "import os"
   ]
  },
  {
   "cell_type": "code",
   "execution_count": 4,
   "metadata": {},
   "outputs": [
    {
     "data": {
      "text/plain": [
       "1"
      ]
     },
     "execution_count": 4,
     "metadata": {},
     "output_type": "execute_result"
    }
   ],
   "source": [
    "os.system('snscrape twitter-profile creem_cake  > test.txt')\n",
    "# os.system('snscrape --help > test.txt')\n"
   ]
  },
  {
   "cell_type": "code",
   "execution_count": 14,
   "metadata": {},
   "outputs": [],
   "source": [
    "# importing libraries and packages\n",
    "import snscrape.modules.twitter as sntwitter\n",
    "import pandas as pd\n",
    "\n",
    "users = ['creem_cake','ExeterMarine','@UofE_Research',\n",
    "        'oaggimenez','_SMRU_','BrendanGodley','BritishEcolSoc']\n",
    "# Creating list to append tweet data \n",
    "tweetJSON = []\n",
    "data = []\n",
    "for user in  users:\n",
    "# Using TwitterSearchScraper to scrape data and append tweets to list\n",
    "    for i,tweet in enumerate(sntwitter.TwitterSearchScraper(f'from:{user} since:2019-05-01').get_items()): #declare a username \n",
    "\n",
    "        data.append([tweet.date,\n",
    "                            tweet.id, \n",
    "                            tweet.content,\n",
    "                            tweet.user.username,\n",
    "                            tweet.url,\n",
    "                            tweet.renderedContent,\n",
    "                            tweet.media,\n",
    "                            tweet.likeCount,\n",
    "                            tweet.replyCount,\n",
    "                            tweet.retweetCount,\n",
    "                            tweet.hashtags\n",
    "                            ]) #declare the attributes to be returned\n",
    "        tweetJSON.append(tweet.json())\n",
    "\n",
    "# Creating a dataframe from the tweets list above\n",
    "tweets_df1 = pd.DataFrame(data, columns=['Datetime', 'Tweet Id', 'content',\n",
    "                                                'Username','url','renderedContent','media',\n",
    "                                                'likeCount','replyCount','retweetCount','hashtags'])\n",
    "                                                \n",
    "tweets_df1.to_csv('tweet_data.csv')"
   ]
  },
  {
   "cell_type": "code",
   "execution_count": 15,
   "metadata": {},
   "outputs": [],
   "source": [
    "import json\n",
    "with open('twitterdata.json', 'w') as f:\n",
    "    json.dump(tweetJSON, f)"
   ]
  },
  {
   "cell_type": "code",
   "execution_count": 9,
   "metadata": {},
   "outputs": [
    {
     "data": {
      "text/plain": [
       "'{\"_type\": \"snscrape.modules.twitter.Tweet\", \"url\": \"https://twitter.com/_SMRU_/status/1130762526428401665\", \"date\": \"2019-05-21T09:09:29+00:00\", \"content\": \"SMRU\\'s Steve Balfour @univofstandrews will be attempting to paddle board 117 miles of the River Tay to raise money for @ParkinsonsUK. A year after rupturing his achilles tendon. Go Stevie! https://t.co/F1OEE9M5Bh\", \"renderedContent\": \"SMRU\\'s Steve Balfour @univofstandrews will be attempting to paddle board 117 miles of the River Tay to raise money for @ParkinsonsUK. A year after rupturing his achilles tendon. Go Stevie! twitter.com/thecourieruk/s\\\\u2026\", \"id\": 1130762526428401665, \"user\": {\"_type\": \"snscrape.modules.twitter.User\", \"username\": \"_SMRU_\", \"id\": 2967819555, \"displayname\": \"SMRU\", \"description\": \"Sea Mammal Research Unit  @univofstandrews. RTs are not endorsements. Check out our commercial arm @SMRU_Consulting & telemetry tag developers @SMRU_Instrument\", \"rawDescription\": \"Sea Mammal Research Unit  @univofstandrews. RTs are not endorsements. Check out our commercial arm @SMRU_Consulting & telemetry tag developers @SMRU_Instrument\", \"descriptionUrls\": null, \"verified\": false, \"created\": \"2015-01-08T14:16:06+00:00\", \"followersCount\": 4478, \"friendsCount\": 455, \"statusesCount\": 2919, \"favouritesCount\": 982, \"listedCount\": 44, \"mediaCount\": 168, \"location\": \"\", \"protected\": false, \"linkUrl\": \"http://www.smru.st-andrews.ac.uk/\", \"linkTcourl\": \"http://t.co/EzbPGNPjyC\", \"profileImageUrl\": \"https://pbs.twimg.com/profile_images/553199089907560448/NPihwnJy_normal.jpeg\", \"profileBannerUrl\": \"https://pbs.twimg.com/profile_banners/2967819555/1421610725\", \"label\": null, \"url\": \"https://twitter.com/_SMRU_\"}, \"replyCount\": 0, \"retweetCount\": 4, \"likeCount\": 15, \"quoteCount\": 0, \"conversationId\": 1130762526428401665, \"lang\": \"en\", \"source\": \"<a href=\\\\\"http://twitter.com\\\\\" rel=\\\\\"nofollow\\\\\">Twitter Web Client</a>\", \"sourceUrl\": \"http://twitter.com\", \"sourceLabel\": \"Twitter Web Client\", \"outlinks\": [\"https://twitter.com/thecourieruk/status/1129294250103824384\"], \"tcooutlinks\": [\"https://t.co/F1OEE9M5Bh\"], \"media\": null, \"retweetedTweet\": null, \"quotedTweet\": {\"_type\": \"snscrape.modules.twitter.Tweet\", \"url\": \"https://twitter.com/thecourieruk/status/1129294250103824384\", \"date\": \"2019-05-17T07:55:05+00:00\", \"content\": \"Steve\\\\u2019s Tay paddle board challenge from loch to sea https://t.co/pPrQBvsxOG https://t.co/Qo6vlYqNQv\", \"renderedContent\": \"Steve\\\\u2019s Tay paddle board challenge from loch to sea dlvr.it/R4t0kZ https://t.co/Qo6vlYqNQv\", \"id\": 1129294250103824384, \"user\": {\"_type\": \"snscrape.modules.twitter.User\", \"username\": \"thecourieruk\", \"id\": 133624169, \"displayname\": \"The Courier\", \"description\": \"Official Twitter page of The Courier, at the heart of Tayside and Fife since 1816. Reporting local news that matters to you. Part of @DC_Thomson.\", \"rawDescription\": \"Official Twitter page of The Courier, at the heart of Tayside and Fife since 1816. Reporting local news that matters to you. Part of @DC_Thomson.\", \"descriptionUrls\": null, \"verified\": false, \"created\": \"2010-04-16T07:14:20+00:00\", \"followersCount\": 50909, \"friendsCount\": 649, \"statusesCount\": 107850, \"favouritesCount\": 232, \"listedCount\": 317, \"mediaCount\": 57800, \"location\": \"Dundee, UK\", \"protected\": false, \"linkUrl\": \"http://thecourier.co.uk\", \"linkTcourl\": \"https://t.co/mQu445RAJQ\", \"profileImageUrl\": \"https://pbs.twimg.com/profile_images/840008374/courierIcon_New_normal.jpg\", \"profileBannerUrl\": \"https://pbs.twimg.com/profile_banners/133624169/1649781436\", \"label\": null, \"url\": \"https://twitter.com/thecourieruk\"}, \"replyCount\": 0, \"retweetCount\": 0, \"likeCount\": 0, \"quoteCount\": 1, \"conversationId\": 1129294250103824384, \"lang\": \"en\", \"source\": \"<a href=\\\\\"https://dlvrit.com/\\\\\" rel=\\\\\"nofollow\\\\\">dlvr.it</a>\", \"sourceUrl\": \"https://dlvrit.com/\", \"sourceLabel\": \"dlvr.it\", \"outlinks\": [\"http://dlvr.it/R4t0kZ\"], \"tcooutlinks\": [\"https://t.co/pPrQBvsxOG\"], \"media\": [{\"_type\": \"snscrape.modules.twitter.Photo\", \"previewUrl\": \"https://pbs.twimg.com/media/D6wPIpHU8AEp1Sp?format=jpg&name=small\", \"fullUrl\": \"https://pbs.twimg.com/media/D6wPIpHU8AEp1Sp?format=jpg&name=large\"}], \"retweetedTweet\": null, \"quotedTweet\": null, \"inReplyToTweetId\": null, \"inReplyToUser\": null, \"mentionedUsers\": null, \"coordinates\": null, \"place\": null, \"hashtags\": null, \"cashtags\": null}, \"inReplyToTweetId\": null, \"inReplyToUser\": null, \"mentionedUsers\": [{\"_type\": \"snscrape.modules.twitter.User\", \"username\": \"univofstandrews\", \"id\": 19910826, \"displayname\": \"University of St Andrews\", \"description\": null, \"rawDescription\": null, \"descriptionUrls\": null, \"verified\": null, \"created\": null, \"followersCount\": null, \"friendsCount\": null, \"statusesCount\": null, \"favouritesCount\": null, \"listedCount\": null, \"mediaCount\": null, \"location\": null, \"protected\": null, \"linkUrl\": null, \"linkTcourl\": null, \"profileImageUrl\": null, \"profileBannerUrl\": null, \"label\": null, \"url\": \"https://twitter.com/univofstandrews\"}, {\"_type\": \"snscrape.modules.twitter.User\", \"username\": \"ParkinsonsUK\", \"id\": 25523996, \"displayname\": \"Parkinson\\'s UK\", \"description\": null, \"rawDescription\": null, \"descriptionUrls\": null, \"verified\": null, \"created\": null, \"followersCount\": null, \"friendsCount\": null, \"statusesCount\": null, \"favouritesCount\": null, \"listedCount\": null, \"mediaCount\": null, \"location\": null, \"protected\": null, \"linkUrl\": null, \"linkTcourl\": null, \"profileImageUrl\": null, \"profileBannerUrl\": null, \"label\": null, \"url\": \"https://twitter.com/ParkinsonsUK\"}], \"coordinates\": null, \"place\": null, \"hashtags\": null, \"cashtags\": null}'"
      ]
     },
     "execution_count": 9,
     "metadata": {},
     "output_type": "execute_result"
    }
   ],
   "source": []
  },
  {
   "cell_type": "code",
   "execution_count": 6,
   "metadata": {},
   "outputs": [
    {
     "ename": "ERROR",
     "evalue": "Error in library(\"tidyverse\"): there is no package called 'tidyverse'\n",
     "output_type": "error",
     "traceback": [
      "Error in library(\"tidyverse\"): there is no package called 'tidyverse'\nTraceback:\n",
      "1. library(\"tidyverse\")"
     ]
    }
   ],
   "source": []
  }
 ],
 "metadata": {
  "interpreter": {
   "hash": "b42f027cf2cf7634146f3409791b9d3d254d89bff852c60783c4a2ae7ca7abb3"
  },
  "kernelspec": {
   "display_name": "Python 3.8.3 ('base')",
   "language": "python",
   "name": "python3"
  },
  "language_info": {
   "codemirror_mode": {
    "name": "ipython",
    "version": 3
   },
   "file_extension": ".py",
   "mimetype": "text/x-python",
   "name": "python",
   "nbconvert_exporter": "python",
   "pygments_lexer": "ipython3",
   "version": "3.8.3"
  },
  "orig_nbformat": 4
 },
 "nbformat": 4,
 "nbformat_minor": 2
}

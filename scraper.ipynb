{
 "cells": [
  {
   "cell_type": "code",
   "execution_count": null,
   "metadata": {},
   "outputs": [],
   "source": [
    "%pip install snscrape"
   ]
  },
  {
   "cell_type": "code",
   "execution_count": 14,
   "metadata": {},
   "outputs": [],
   "source": [
    "# Run to activate the scraper\n",
    "import snscrape.modules.twitter as sntwitter\n",
    "import pandas as pd\n",
    "\n",
    "users = ['creem_cake','ExeterMarine','@UofE_Research',\n",
    "        'oaggimenez','_SMRU_','BrendanGodley','BritishEcolSoc']\n",
    "start_date = '2019-01-01'\n",
    "# Creating list to append tweet data \n",
    "tweetJSON = []\n",
    "data = []\n",
    "for user in  users:\n",
    "# Using TwitterSearchScraper to scrape data and append tweets to list\n",
    "    for i,tweet in enumerate(\n",
    "        sntwitter.TwitterSearchScraper(\n",
    "            f'from:{user} since:{start_date}' #specify start date\n",
    "            ).get_items()): #declare a username \n",
    "\n",
    "        data.append([tweet.date,\n",
    "                            tweet.id, \n",
    "                            tweet.content,\n",
    "                            tweet.user.username,\n",
    "                            tweet.url,\n",
    "                            tweet.renderedContent,\n",
    "                            tweet.media,\n",
    "                            tweet.likeCount,\n",
    "                            tweet.replyCount,\n",
    "                            tweet.retweetCount,\n",
    "                            tweet.hashtags\n",
    "                            ]) #declare the attributes to be returned\n",
    "        tweetJSON.append(tweet.json())\n",
    "\n",
    "# Creating a dataframe from the tweets list above\n",
    "tweets_df = pd.DataFrame(data, columns=['Datetime', 'Tweet Id', 'content',\n",
    "                                                'Username','url','renderedContent','media',\n",
    "                                                'likeCount','replyCount','retweetCount','hashtags'])\n",
    "                                                \n",
    "tweets_df.to_csv('tweet_data.csv')\n"
   ]
  },
  {
   "cell_type": "code",
   "execution_count": 15,
   "metadata": {},
   "outputs": [],
   "source": [
    "#dump to json\n",
    "import json\n",
    "with open('twitterdata.json', 'w') as f:\n",
    "    json.dump(tweetJSON, f)"
   ]
  }
 ],
 "metadata": {
  "interpreter": {
   "hash": "b42f027cf2cf7634146f3409791b9d3d254d89bff852c60783c4a2ae7ca7abb3"
  },
  "kernelspec": {
   "display_name": "Python 3.8.3 ('base')",
   "language": "python",
   "name": "python3"
  },
  "language_info": {
   "codemirror_mode": {
    "name": "ipython",
    "version": 3
   },
   "file_extension": ".py",
   "mimetype": "text/x-python",
   "name": "python",
   "nbconvert_exporter": "python",
   "pygments_lexer": "ipython3",
   "version": "3.8.3"
  },
  "orig_nbformat": 4
 },
 "nbformat": 4,
 "nbformat_minor": 2
}
